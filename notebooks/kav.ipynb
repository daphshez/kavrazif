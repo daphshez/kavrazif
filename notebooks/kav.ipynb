{
 "cells": [
  {
   "cell_type": "code",
   "execution_count": 1,
   "metadata": {
    "collapsed": true
   },
   "outputs": [],
   "source": [
    "from ilgtfs import ExtendedGTFS\n"
   ]
  },
  {
   "cell_type": "code",
   "execution_count": 2,
   "metadata": {
    "collapsed": true
   },
   "outputs": [],
   "source": [
    "gtfs = ExtendedGTFS(r'data/gtfs_2016_05_25/israel-public-transportation.zip')"
   ]
  },
  {
   "cell_type": "code",
   "execution_count": 3,
   "metadata": {
    "collapsed": false
   },
   "outputs": [
    {
     "name": "stdout",
     "output_type": "stream",
     "text": [
      "Loading stops\n",
      "27258 stops loaded\n"
     ]
    }
   ],
   "source": [
    "gtfs.load_stops()"
   ]
  },
  {
   "cell_type": "code",
   "execution_count": 14,
   "metadata": {
    "collapsed": false
   },
   "outputs": [
    {
     "name": "stdout",
     "output_type": "stream",
     "text": [
      "37304\n"
     ]
    }
   ],
   "source": [
    "for s in gtfs.stops.values():\n",
    "    print(s.nearest_train_station_id)\n",
    "    break"
   ]
  },
  {
   "cell_type": "code",
   "execution_count": 24,
   "metadata": {
    "collapsed": false
   },
   "outputs": [],
   "source": [
    "def export_stops_near_sations(gtfs, filename):\n",
    "    with open(gtfs.at_path('stops_near_stations.txt'), 'w', encoding='utf8') as outf:\n",
    "        outf.write('stop_id,stop_code,stop_name,stop_desc,stop_lat,stop_lon,location_type,parent_station,parent_station_name,' +\n",
    "                   'nearest_train_station_id,nearest_train_station_name,train_station_distance,routes_here,train_station_distance_category\\n')\n",
    "        for stop in gtfs.stops.values():\n",
    "            if stop.parent_station != '': continue    # only present terminals ones\n",
    "            if stop.train_station_distance > 800: continue\n",
    "            if stop.train_station_distance > 500: cat = 'far'\n",
    "            elif stop.train_station_distance > 300: cat = 'medium'\n",
    "            elif stop.train_station_distance > 0: cat = 'near'\n",
    "            else: cat  = 'train'\n",
    "            line = ','.join([\n",
    "                str(stop.stop_id),\n",
    "                stop.stop_code,\n",
    "                stop.stop_name,\n",
    "                stop.stop_desc,\n",
    "                str(stop.stop_lat),\n",
    "                str(stop.stop_lon),\n",
    "                stop.location_type,\n",
    "                stop.parent_station,\n",
    "                gtfs.stops[int(stop.parent_station)].stop_name if stop.parent_station != '' else '',\n",
    "                str(stop.nearest_train_station_id),\n",
    "                gtfs.stops[stop.nearest_train_station_id].stop_name,\n",
    "                str(stop.train_station_distance),\n",
    "                ' '.join(stop.routes_stopping_here),\n",
    "                cat\n",
    "            ])\n",
    "            outf.write(line + '\\n')\n",
    "\n",
    "export_stops_near_sations(gtfs, 'stops_near_stations.txt')"
   ]
  },
  {
   "cell_type": "code",
   "execution_count": 21,
   "metadata": {
    "collapsed": true
   },
   "outputs": [],
   "source": [
    "def f(gtfs: ExtendedGTFS):\n",
    "    gtfs.load_trips()\n",
    "    gtfs.load_routes()\n",
    "\n",
    "    trip_story_id_to_service = defaultdict(lambda: set())\n",
    "    for trip in gtfs.trips.values():\n",
    "        trip_story_id_to_service[trip.trip_story_id].add(trip.service)\n",
    "\n",
    "    c = Counter()\n",
    "    for service_set in trip_story_id_to_service.values():\n",
    "        c[len(service_set)] += 1\n",
    "    print(c)\n",
    "\n",
    "    with open('data/tmp.csv', 'w') as f:\n",
    "        for trip_story_id, services in trip_story_id_to_service.items():\n",
    "            for service in services:\n",
    "                fields = [trip_story_id, service.start_date, service.end_date, ' '.join(str(x) for x in service.days)]\n",
    "                line = ','.join(str(x) for x in fields)\n",
    "                f.write(line + '\\n')\n",
    "\n",
    "    with_2_stories = [route for route in gtfs.routes.values() if len(route.trip_stories) > 1]\n",
    "    print(\"There are %d routes with more than one trip story\" % len(with_2_stories))\n",
    "\n",
    "\n"
   ]
  },
  {
   "cell_type": "code",
   "execution_count": null,
   "metadata": {
    "collapsed": true
   },
   "outputs": [],
   "source": []
  }
 ],
 "metadata": {
  "kernelspec": {
   "display_name": "Python 3",
   "language": "python",
   "name": "python3"
  },
  "language_info": {
   "codemirror_mode": {
    "name": "ipython",
    "version": 3
   },
   "file_extension": ".py",
   "mimetype": "text/x-python",
   "name": "python",
   "nbconvert_exporter": "python",
   "pygments_lexer": "ipython3",
   "version": "3.5.1"
  }
 },
 "nbformat": 4,
 "nbformat_minor": 0
}
