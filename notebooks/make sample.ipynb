{
 "cells": [
  {
   "cell_type": "code",
   "execution_count": 1,
   "metadata": {
    "collapsed": true
   },
   "outputs": [],
   "source": [
    "import ilgtfs"
   ]
  },
  {
   "cell_type": "code",
   "execution_count": 2,
   "metadata": {
    "collapsed": true
   },
   "outputs": [],
   "source": [
    "g = ilgtfs.GTFS(r'data/gtfs_2016_05_25/israel-public-transportation.zip')"
   ]
  },
  {
   "cell_type": "code",
   "execution_count": 3,
   "metadata": {
    "collapsed": false
   },
   "outputs": [
    {
     "name": "stdout",
     "output_type": "stream",
     "text": [
      "Loading agencies\n",
      "26 agencies loaded\n",
      "Loading routes\n",
      "7963 routes loaded\n",
      "Loading shapes\n",
      "7175 shapes loaded\n",
      "Loading services\n",
      "35110 services loaded\n",
      "Loading trips\n",
      "435123 trips loaded\n",
      "Loading stops\n",
      "27258 stops loaded\n"
     ]
    }
   ],
   "source": [
    "g.load_agencies()\n",
    "g.load_routes()\n",
    "g.load_shapes()\n",
    "g.load_services()\n",
    "g.load_trips()\n",
    "g.load_stops()"
   ]
  },
  {
   "cell_type": "code",
   "execution_count": 10,
   "metadata": {
    "collapsed": true
   },
   "outputs": [],
   "source": [
    "import csv"
   ]
  },
  {
   "cell_type": "code",
   "execution_count": 14,
   "metadata": {
    "collapsed": false
   },
   "outputs": [],
   "source": [
    "new_route_ids = list(g.routes.keys())[:10]\n",
    "new_route_ids_set = set(new_route_ids)"
   ]
  },
  {
   "cell_type": "code",
   "execution_count": 16,
   "metadata": {
    "collapsed": false
   },
   "outputs": [],
   "source": [
    "with open(r'sample/routes.txt', 'w', encoding='utf8') as f:\n",
    "    fields = [\"route_id\",\"agency_id\",\"route_short_name\",\"route_long_name\",\"route_desc\",\"route_type\",\"route_color\"]\n",
    "    writer = csv.DictWriter(f, fieldnames=fields, lineterminator='\\n')\n",
    "    writer.writeheader()\n",
    "    for route_id in new_route_ids:\n",
    "        route = g.routes[route_id]\n",
    "        row =  {\n",
    "            \"route_id\": route_id,\n",
    "            \"agency_id\": route.agency.agency_id,\n",
    "            \"route_short_name\": route.line_number,\n",
    "            \"route_long_name\": route.route_long_name,\n",
    "            \"route_desc\": route.route_desc,\n",
    "            \"route_type\": route.route_type,\n",
    "            \"route_color\": \"\"\n",
    "        }\n",
    "        writer.writerow(row)"
   ]
  },
  {
   "cell_type": "code",
   "execution_count": 18,
   "metadata": {
    "collapsed": false
   },
   "outputs": [
    {
     "name": "stdout",
     "output_type": "stream",
     "text": [
      "909 trips left\n"
     ]
    }
   ],
   "source": [
    "new_trips = {trip_id: trip for (trip_id, trip) in g.trips.items() if trip.route.route_id in new_route_ids_set}\n",
    "print(\"%d trips left\" % len(new_trips))\n",
    "with open(r'sample/trips.txt', 'w', encoding='utf8') as f:\n",
    "    fields = [\"route_id\",\"service_id\",\"trip_id\",\"direction_id\",\"shape_id\"]\n",
    "    writer = csv.DictWriter(f, fieldnames=fields, lineterminator='\\n')\n",
    "    writer.writeheader()\n",
    "    for trip_id, trip in new_trips.items():\n",
    "        row =  {\n",
    "            \"route_id\": trip.route.route_id,\n",
    "            \"service_id\": trip.service.service_id,\n",
    "            \"trip_id\": trip_id,\n",
    "            \"direction_id\": trip.direction_id,\n",
    "            \"shape_id\": trip.shape_id\n",
    "        }\n",
    "        writer.writerow(row)"
   ]
  },
  {
   "cell_type": "code",
   "execution_count": 24,
   "metadata": {
    "collapsed": false
   },
   "outputs": [
    {
     "name": "stdout",
     "output_type": "stream",
     "text": [
      "There are 10 shapes left\n"
     ]
    }
   ],
   "source": [
    "new_shape_ids = set(trip.shape_id for trip in new_trips.values())\n",
    "print(\"There are %d shapes left\"% len(new_shape_ids))\n",
    "with open(r'sample/shapes.txt', 'w', encoding='utf8') as f:\n",
    "    fields = [\"shape_id\",\"shape_pt_lat\",\"shape_pt_lon\",\"shape_pt_sequence\"]\n",
    "    writer = csv.DictWriter(f, fieldnames=fields, lineterminator='\\n')\n",
    "    writer.writeheader()\n",
    "    for shape_id in (shape_id for shape_id in g.shapes if shape_id in new_shape_ids):\n",
    "        shape = g.shapes[shape_id]\n",
    "        for pt_sequence, point in shape.coordinates.items():\n",
    "            row =  {\n",
    "                \"shape_id\": shape_id,\n",
    "                \"shape_pt_lat\": point[0],\n",
    "                \"shape_pt_lon\": point[1],\n",
    "                \"shape_pt_sequence\": pt_sequence\n",
    "            }\n",
    "            writer.writerow(row)"
   ]
  },
  {
   "cell_type": "code",
   "execution_count": 27,
   "metadata": {
    "collapsed": false
   },
   "outputs": [
    {
     "name": "stdout",
     "output_type": "stream",
     "text": [
      "There are 43 services left\n"
     ]
    }
   ],
   "source": [
    "new_services = set(trip.service for trip in new_trips.values())\n",
    "print(\"There are %d services left\"% len(new_services))\n",
    "with open(r'sample/calendar.txt', 'w', encoding='utf8') as f:\n",
    "    fields = [\"service_id\",\"sunday\",\"monday\",\"tuesday\",\"wednesday\",\"thursday\",\"friday\",\"saturday\",\"start_date\",\"end_date\"]\n",
    "    writer = csv.DictWriter(f, fieldnames=fields, lineterminator='\\n')\n",
    "    writer.writeheader()\n",
    "    for service in new_services:\n",
    "        row =  {\n",
    "            \"service_id\": service.service_id,\n",
    "            \"sunday\": int(6 in service.days),\n",
    "            \"monday\": int(0 in service.days),\n",
    "            \"tuesday\": int(1 in service.days),\n",
    "            \"wednesday\": int(2 in service.days),\n",
    "            \"thursday\": int(3 in service.days),\n",
    "            \"friday\": int(4 in service.days),\n",
    "            \"saturday\": int(5 in service.days) ,\n",
    "            \"start_date\": service.start_date.strftime('%Y%m%d'),\n",
    "            \"end_date\": service.end_date.strftime('%Y%m%d')\n",
    "        }\n",
    "        writer.writerow(row)"
   ]
  },
  {
   "cell_type": "code",
   "execution_count": 30,
   "metadata": {
    "collapsed": false
   },
   "outputs": [
    {
     "name": "stdout",
     "output_type": "stream",
     "text": [
      "There are 3 agencies left\n"
     ]
    }
   ],
   "source": [
    "# agencies\n",
    "new_agencies = set(g.routes[route_id].agency for route_id in new_route_ids)\n",
    "print(\"There are %d agencies left\" % len(new_agencies))\n",
    "with open(r'sample/agency.txt', 'w', encoding='utf8') as f:\n",
    "    fields = [\"agency_id\",\"agency_name\",\"agency_url\",\"agency_timezone\",\"agency_lang\",\"agency_phone\",\"agency_fare_url\"]\n",
    "    writer = csv.DictWriter(f, fieldnames=fields, lineterminator='\\n')\n",
    "    writer.writeheader()\n",
    "    for agency in new_agencies:\n",
    "        row =  {\n",
    "            \"agency_id\": agency.agency_id,\n",
    "            \"agency_name\": agency.agency_name\n",
    "        }\n",
    "        writer.writerow(row)"
   ]
  },
  {
   "cell_type": "code",
   "execution_count": 39,
   "metadata": {
    "collapsed": false
   },
   "outputs": [
    {
     "name": "stdout",
     "output_type": "stream",
     "text": [
      "40344 lines written to stop_times.txt\n",
      "There are 27217 stops left\n"
     ]
    }
   ],
   "source": [
    "import zipfile, io\n",
    "# stop_times\n",
    "# trip_id,arrival_time,departure_time,stop_id,stop_sequence,pickup_type,drop_off_type\n",
    "stop_ids_left = set()\n",
    "stop_times_written = 0\n",
    "with zipfile.ZipFile(g.filename) as z, open(r'sample/stop_times.txt', 'w', encoding='utf8') as outf:\n",
    "    with io.TextIOWrapper(z.open('stop_times.txt'), 'utf8') as f:\n",
    "        outf.write(next(f))   # header\n",
    "        for line in f:\n",
    "            fields = line.strip().split(',')\n",
    "            trip_id = fields[0]\n",
    "            if trip_id in new_trips:\n",
    "                outf.write(line)\n",
    "                stop_times_written += 1\n",
    "            stop_ids_left.add(int(fields[3]))\n",
    "                \n",
    "print(\"%d lines written to stop_times.txt\" % stop_times_written)\n",
    "print(\"There are %d stops left\" % len(stop_ids_left))\n"
   ]
  },
  {
   "cell_type": "code",
   "execution_count": 40,
   "metadata": {
    "collapsed": true
   },
   "outputs": [],
   "source": [
    "# stops\n",
    "# \n",
    "with open(r'sample/stops.txt', 'w', encoding='utf8') as f:\n",
    "    fields = [\"stop_id\",\"stop_code\",\"stop_name\",\"stop_desc\",\"stop_lat\",\"stop_lon\",\"location_type\",\"parent_station\",\"zone_id\"]\n",
    "    writer = csv.DictWriter(f, fieldnames=fields, lineterminator='\\n')\n",
    "    writer.writeheader()\n",
    "    for stop_id in stop_ids_left:\n",
    "        stop = g.stops[stop_id]\n",
    "        row =  {\n",
    "            \"stop_id\": stop_id,\n",
    "            \"stop_code\": stop.stop_code,\n",
    "            \"stop_name\": stop.stop_name,\n",
    "            \"stop_desc\": stop.stop_desc,\n",
    "            \"stop_lat\": stop.stop_lat,\n",
    "            \"stop_lon\": stop.stop_lon,\n",
    "            \"location_type\": stop.location_type,\n",
    "            \"parent_station\": stop.parent_station,\n",
    "            \"zone_id\": stop.zone_id\n",
    "        }\n",
    "        writer.writerow(row)"
   ]
  },
  {
   "cell_type": "code",
   "execution_count": null,
   "metadata": {
    "collapsed": true
   },
   "outputs": [],
   "source": []
  }
 ],
 "metadata": {
  "kernelspec": {
   "display_name": "Python 3",
   "language": "python",
   "name": "python3"
  },
  "language_info": {
   "codemirror_mode": {
    "name": "ipython",
    "version": 3
   },
   "file_extension": ".py",
   "mimetype": "text/x-python",
   "name": "python",
   "nbconvert_exporter": "python",
   "pygments_lexer": "ipython3",
   "version": "3.5.1"
  }
 },
 "nbformat": 4,
 "nbformat_minor": 0
}
