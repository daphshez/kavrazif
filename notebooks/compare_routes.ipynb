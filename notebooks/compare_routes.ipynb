{
 "cells": [
  {
   "cell_type": "code",
   "execution_count": 1,
   "metadata": {
    "collapsed": true
   },
   "outputs": [],
   "source": [
    "from ilgtfs import ExtendedGTFS, FullRoute\n",
    "from Levenshtein import distance, editops\n",
    "\n",
    "\n",
    "def compare_routes(g: ExtendedGTFS, route1_id: int, route2_id: int):\n",
    "    def route_str(route_id: int):\n",
    "        route = g.routes[route_id]      # type: FullRoute\n",
    "        assert len(route.trip_stories) == 1\n",
    "        trip_story_id = route.trip_stories[0]\n",
    "        return ''.join(chr(stop.stop_id) for stop in g.route_stories[trip_story_id])\n",
    "\n",
    "    s1, s2 = route_str(route1_id), route_str(route2_id)\n",
    "    return distance(s1, s2), editops(s1, s2)\n"
   ]
  },
  {
   "cell_type": "code",
   "execution_count": null,
   "metadata": {
    "collapsed": true
   },
   "outputs": [],
   "source": []
  }
 ],
 "metadata": {
  "kernelspec": {
   "display_name": "Python 3",
   "language": "python",
   "name": "python3"
  },
  "language_info": {
   "codemirror_mode": {
    "name": "ipython",
    "version": 3
   },
   "file_extension": ".py",
   "mimetype": "text/x-python",
   "name": "python",
   "nbconvert_exporter": "python",
   "pygments_lexer": "ipython3",
   "version": "3.5.1"
  }
 },
 "nbformat": 4,
 "nbformat_minor": 0
}
